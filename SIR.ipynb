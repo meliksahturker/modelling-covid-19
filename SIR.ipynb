{
 "cells": [
  {
   "cell_type": "code",
   "execution_count": 1,
   "metadata": {},
   "outputs": [],
   "source": [
    "import pandas as pd\n",
    "import numpy as np\n",
    "import matplotlib.pyplot as plt\n",
    "import itertools\n",
    "from itertools import combinations \n",
    "import random\n",
    "import networkx as nx\n",
    "import EoN\n",
    "%matplotlib inline\n",
    "from concurrent import futures\n",
    "import concurrent.futures\n",
    "import seaborn as sns"
   ]
  },
  {
   "cell_type": "code",
   "execution_count": 2,
   "metadata": {},
   "outputs": [],
   "source": [
    "def create_hq_graph(beta):\n",
    "        \n",
    "    is_half_quarantine = True\n",
    "\n",
    "    G = nx.Graph()\n",
    "    n_Of_Houses = 25000\n",
    "    number_of_houses_in_neighborhood = 1000\n",
    "    mean_of_family_size = 2.52\n",
    "    std_of_family_size = 1\n",
    "\n",
    "    if is_half_quarantine:\n",
    "        house_white_blue_allocator = 0.02 # 0.02 for corona world. 0.93 for normal world\n",
    "        ratio_of_working_people = 0.21\n",
    "    else:\n",
    "        house_white_blue_allocator = 0.93\n",
    "        ratio_of_working_people = 0.76\n",
    "\n",
    "\n",
    "    size_of_Houses = []\n",
    "    for i in range(n_Of_Houses):\n",
    "        number = round(random.gauss(mean_of_family_size, std_of_family_size))\n",
    "        while (number < 1):\n",
    "            number = round(random.gauss(mean_of_family_size, std_of_family_size))\n",
    "\n",
    "        size_of_Houses.append(number)\n",
    "        if number == 1:\n",
    "            G.add_node(len(G))\n",
    "        else:\n",
    "            for pair in list(combinations(np.arange(len(G), len(G) + number) , 2)):\n",
    "                G.add_edge(pair[0], pair[1], weight = 1)\n",
    "                \n",
    "                \n",
    "    # List of Nodes and Houses\n",
    "    nodes = list(G.nodes())\n",
    "    df = pd.DataFrame(nodes)\n",
    "    df.columns = ['Node']\n",
    "\n",
    "    lst = []\n",
    "    for i in range(len(size_of_Houses)):\n",
    "        for j in range(size_of_Houses[i]):\n",
    "            lst.append(i)\n",
    "\n",
    "    df['House'] = lst\n",
    "\n",
    "    house_List = np.arange(0, len(size_of_Houses), 1)\n",
    "\n",
    "    # WHITE-BLUE\n",
    "    lst_White = []\n",
    "    white_blue_likelihood = 0.8\n",
    "    for house in size_of_Houses:\n",
    "        is_White = np.random.rand() > house_white_blue_allocator\n",
    "\n",
    "        for i in range(house):\n",
    "            if is_White:\n",
    "                lst_White.append(np.random.rand() < white_blue_likelihood)\n",
    "            else:\n",
    "                lst_White.append(np.random.rand() < (1 - white_blue_likelihood))\n",
    "\n",
    "    df['isWhite'] = lst_White\n",
    "\n",
    "    # Send people to work\n",
    "    df['Work'] = -1\n",
    "\n",
    "    lst_of_jobs = []\n",
    "    mean_of_job_size = 10\n",
    "    std_of_job_size = 5\n",
    "    while np.sum(lst_of_jobs) < df[df['isWhite'] == False].shape[0]:\n",
    "        job_size = round(random.gauss(mean_of_job_size, std_of_job_size))\n",
    "        if job_size < 2:\n",
    "            continue\n",
    "        lst_of_jobs.append(job_size)\n",
    "    df_jobs = pd.DataFrame(lst_of_jobs).reset_index()\n",
    "    df_jobs.columns = ['Job', 'No_of_Ppl']\n",
    "\n",
    "    l = int(number_of_houses_in_neighborhood * mean_of_family_size / 2)\n",
    "\n",
    "    mean_of_job_allocator = 0\n",
    "    std_of_job_allocator = df_jobs.shape[0] / 4\n",
    "\n",
    "\n",
    "    for node in df[df['isWhite'] == False]['Node'].values:\n",
    "        list_of_available_jobs = df_jobs[df_jobs['No_of_Ppl'] != 0]['Job'].values\n",
    "        corresponding_job_for_node = (node * ratio_of_working_people) / mean_of_job_size\n",
    "        job_allocation = min(list_of_available_jobs, key=lambda x:abs(x - (corresponding_job_for_node + round(random.gauss(mean_of_job_allocator, std_of_job_allocator)))))\n",
    "        df_jobs.iloc[job_allocation, 1] -= 1\n",
    "        df.iloc[node, 3] = job_allocation\n",
    "\n",
    "    # Add edges with  𝛽  for people at same work\n",
    "\n",
    "    df_workers = df[df['isWhite'] == False]\n",
    "    for item in df_workers[['Node', 'Work']].groupby('Work'):\n",
    "        for pair in list(combinations(item[1]['Node'].values , 2)):\n",
    "            G.add_edge(pair[0], pair[1], weight = beta)\n",
    "            \n",
    "            \n",
    "    if is_half_quarantine:\n",
    "        ratio_of_service_industry = 0.50\n",
    "    else:\n",
    "        ratio_of_service_industry = 0.33\n",
    "    ratio_of_connections_for_service_industry = 0.05\n",
    "    servers = df[df['isWhite'] == False].sample(frac = ratio_of_service_industry)['Node'].values\n",
    "\n",
    "    for server in servers:\n",
    "        servers_corresponding_node_in_work_neighborhood = int((df.loc[server, 'Work'] * mean_of_job_size) / ratio_of_working_people)\n",
    "        to_be_served_by_current_server = df.iloc[servers_corresponding_node_in_work_neighborhood - l:servers_corresponding_node_in_work_neighborhood + l, :].sample(frac = ratio_of_connections_for_service_industry)['Node'].values\n",
    "        for to_be_served in to_be_served_by_current_server:\n",
    "            if G.has_edge(server, to_be_served) == False:\n",
    "                G.add_edge(server, to_be_served, weight = beta ** 2)\n",
    "                \n",
    "    mean_of_b_3_connections = int(number_of_houses_in_neighborhood * mean_of_family_size *  0.02)\n",
    "    std_of_b_3_connections = mean_of_b_3_connections / 2\n",
    "    for node in df['Node'].values:\n",
    "\n",
    "        number_of_b_3_connections = max(0, round(random.gauss(mean_of_b_3_connections, std_of_b_3_connections)))\n",
    "        b_3_list = df.iloc[max(0, node-l):node+l, 0].sample(number_of_b_3_connections).values\n",
    "\n",
    "        for random_person in b_3_list:\n",
    "            if G.has_edge(node, random_person) == False:\n",
    "                G.add_edge(node, random_person, weight = beta**3)     \n",
    "    return G"
   ]
  },
  {
   "cell_type": "code",
   "execution_count": 3,
   "metadata": {},
   "outputs": [
    {
     "name": "stdout",
     "output_type": "stream",
     "text": [
      "CPU times: user 0 ns, sys: 0 ns, total: 0 ns\n",
      "Wall time: 10 µs\n"
     ]
    }
   ],
   "source": [
    "%%time\n",
    "def create_wb_graph(beta):\n",
    "        \n",
    "    is_half_quarantine = True\n",
    "\n",
    "    G = nx.Graph()\n",
    "    n_Of_Houses = 5000\n",
    "    number_of_houses_in_neighborhood = n_Of_Houses / 25\n",
    "    mean_of_family_size = 2.52\n",
    "    std_of_family_size = 1\n",
    "\n",
    "    if is_half_quarantine:\n",
    "        house_white_blue_allocator = 0.02 # 0.02 for corona world. 0.93 for normal world\n",
    "        ratio_of_working_people = 0.21\n",
    "    else:\n",
    "        house_white_blue_allocator = 0.93\n",
    "        ratio_of_working_people = 0.76\n",
    "\n",
    "\n",
    "    size_of_Houses = []\n",
    "    for i in range(n_Of_Houses):\n",
    "        number = round(random.gauss(mean_of_family_size, std_of_family_size))\n",
    "        while (number < 1):\n",
    "            number = round(random.gauss(mean_of_family_size, std_of_family_size))\n",
    "\n",
    "        size_of_Houses.append(number)\n",
    "        if number == 1:\n",
    "            G.add_node(len(G))\n",
    "        else:\n",
    "            for pair in list(combinations(np.arange(len(G), len(G) + number) , 2)):\n",
    "                G.add_edge(pair[0], pair[1], weight = 1)\n",
    "                \n",
    "                \n",
    "    # List of Nodes and Houses\n",
    "    nodes = list(G.nodes())\n",
    "    df = pd.DataFrame(nodes)\n",
    "    df.columns = ['Node']\n",
    "\n",
    "    lst = []\n",
    "    for i in range(len(size_of_Houses)):\n",
    "        for j in range(size_of_Houses[i]):\n",
    "            lst.append(i)\n",
    "\n",
    "    df['House'] = lst\n",
    "\n",
    "    house_List = np.arange(0, len(size_of_Houses), 1)\n",
    "\n",
    "    # WHITE-BLUE\n",
    "    lst_White = []\n",
    "    white_blue_likelihood = 0.8\n",
    "    for house in size_of_Houses:\n",
    "        is_White = np.random.rand() > house_white_blue_allocator\n",
    "\n",
    "        for i in range(house):\n",
    "            if is_White:\n",
    "                lst_White.append(np.random.rand() < white_blue_likelihood)\n",
    "            else:\n",
    "                lst_White.append(np.random.rand() < (1 - white_blue_likelihood))\n",
    "\n",
    "    df['isWhite'] = lst_White\n",
    "\n",
    "    # Send people to work\n",
    "    df['Work'] = -1\n",
    "\n",
    "    lst_of_jobs = []\n",
    "    mean_of_job_size = 10\n",
    "    std_of_job_size = 5\n",
    "    while np.sum(lst_of_jobs) < df[df['isWhite'] == False].shape[0]:\n",
    "        job_size = round(random.gauss(mean_of_job_size, std_of_job_size))\n",
    "        if job_size < 2:\n",
    "            continue\n",
    "        lst_of_jobs.append(job_size)\n",
    "    df_jobs = pd.DataFrame(lst_of_jobs).reset_index()\n",
    "    df_jobs.columns = ['Job', 'No_of_Ppl']\n",
    "\n",
    "    l = int(number_of_houses_in_neighborhood * mean_of_family_size / 2)\n",
    "\n",
    "    mean_of_job_allocator = 0\n",
    "    std_of_job_allocator = df_jobs.shape[0] / 4\n",
    "\n",
    "\n",
    "    for node in df[df['isWhite'] == False]['Node'].values:\n",
    "        list_of_available_jobs = df_jobs[df_jobs['No_of_Ppl'] != 0]['Job'].values\n",
    "        corresponding_job_for_node = (node * ratio_of_working_people) / mean_of_job_size\n",
    "        job_allocation = min(list_of_available_jobs, key=lambda x:abs(x - (corresponding_job_for_node + round(random.gauss(mean_of_job_allocator, std_of_job_allocator)))))\n",
    "        df_jobs.iloc[job_allocation, 1] -= 1\n",
    "        df.iloc[node, 3] = job_allocation\n",
    "\n",
    "    # Add edges with  𝛽  for people at same work\n",
    "\n",
    "    df_workers = df[df['isWhite'] == False]\n",
    "    for item in df_workers[['Node', 'Work']].groupby('Work'):\n",
    "        for pair in list(combinations(item[1]['Node'].values , 2)):\n",
    "            G.add_edge(pair[0], pair[1], weight = beta)\n",
    "            \n",
    "            \n",
    "    if is_half_quarantine:\n",
    "        ratio_of_service_industry = 0.50\n",
    "    else:\n",
    "        ratio_of_service_industry = 0.33\n",
    "    ratio_of_connections_for_service_industry = 0.05\n",
    "    servers = df[df['isWhite'] == False].sample(frac = ratio_of_service_industry)['Node'].values\n",
    "\n",
    "    for server in servers:\n",
    "        servers_corresponding_node_in_work_neighborhood = int((df.loc[server, 'Work'] * mean_of_job_size) / ratio_of_working_people)\n",
    "        to_be_served_by_current_server = df.iloc[servers_corresponding_node_in_work_neighborhood - l:servers_corresponding_node_in_work_neighborhood + l, :].sample(frac = ratio_of_connections_for_service_industry)['Node'].values\n",
    "        for to_be_served in to_be_served_by_current_server:\n",
    "            if G.has_edge(server, to_be_served) == False:\n",
    "                G.add_edge(server, to_be_served, weight = beta ** 2)\n",
    "                \n",
    "    mean_of_b_3_connections = int(number_of_houses_in_neighborhood * mean_of_family_size *  0.02)\n",
    "    std_of_b_3_connections = mean_of_b_3_connections / 2\n",
    "    for node in df['Node'].values:\n",
    "\n",
    "        number_of_b_3_connections = max(0, round(random.gauss(mean_of_b_3_connections, std_of_b_3_connections)))\n",
    "        b_3_list = df.iloc[max(0, node-l):node+l, 0].sample(number_of_b_3_connections).values\n",
    "\n",
    "        for random_person in b_3_list:\n",
    "            if G.has_edge(node, random_person) == False:\n",
    "                G.add_edge(node, random_person, weight = beta**3)    \n",
    "                \n",
    "\n",
    "    df['Number_of_Friends_so_far'] = 0\n",
    "    df['Number_of_Friends_defined'] = 0\n",
    "    mean_of_number_of_friends = 6.5\n",
    "    std_of_number_of_friends = 3\n",
    "    lst_friendlist = []\n",
    "    for node in df['Node'].values:\n",
    "        number_of_friends = max(0, round(random.gauss(mean_of_number_of_friends, std_of_number_of_friends)))\n",
    "        df.loc[node, 'Number_of_Friends_defined'] = number_of_friends\n",
    "\n",
    "\n",
    "    # FRIENDSHIP\n",
    "    while df[df['Number_of_Friends_so_far'] < df['Number_of_Friends_defined']].shape[0]>1:\n",
    "\n",
    "        node = df[df['Number_of_Friends_so_far'] < df['Number_of_Friends_defined']]['Node'].sample(1).values[0]\n",
    "        #friendlist_of_node = \"\"\n",
    "        while df.loc[node, 'Number_of_Friends_so_far'] < df.loc[node, 'Number_of_Friends_defined']:\n",
    "            some_std = max(0, round(random.gauss(0, df.shape[0] / 2 )))\n",
    "            while df[df['Number_of_Friends_so_far'] < df['Number_of_Friends_defined']].iloc[max(0, node - (l + some_std)): node + (l + some_std)].shape[0] < 1:\n",
    "                some_std = (some_std + 5)*2\n",
    "            friendNode = df[df['Number_of_Friends_so_far'] < df['Number_of_Friends_defined']].iloc[max(0, node - (l + some_std)): node + (l + some_std)]['Node'].sample(1).values[0]\n",
    "            if df.loc[friendNode, 'Number_of_Friends_so_far'] < df.loc[friendNode, 'Number_of_Friends_defined']:\n",
    "                df.loc[node, 'Number_of_Friends_so_far'] += 1\n",
    "                df.loc[friendNode, 'Number_of_Friends_so_far'] += 1\n",
    "                G.add_edge(node, friendNode, weight = beta)\n",
    "                #friendlist_of_node = friendlist_of_node + (str(friendNode) + \",\")         \n",
    "\n",
    "        # Weak interactions, 10x the number of friends, 10% being beta**2\n",
    "\n",
    "        nodes_of_weak_interactions = df['Node'].sample(10 * number_of_friends).values\n",
    "        for weak_interaction_node in nodes_of_weak_interactions:\n",
    "            if np.random.rand() < 0.1:\n",
    "                if G.has_edge(node, weak_interaction_node) == False:\n",
    "                    G.add_edge(node, weak_interaction_node, weight = beta**2)      \n",
    "            else:\n",
    "                if G.has_edge(node, weak_interaction_node) == False:\n",
    "                    G.add_edge(node, weak_interaction_node, weight = beta**3)\n",
    "\n",
    "    return G"
   ]
  },
  {
   "cell_type": "code",
   "execution_count": 4,
   "metadata": {},
   "outputs": [],
   "source": [
    "# SIR method\n",
    "def SIR(pair):\n",
    "    beta = pair[0]\n",
    "    gamma = pair[1]\n",
    "    G = create_wb_graph(beta)\n",
    "    t, S, I ,R = EoN.fast_SIR(G, tau = 1, gamma = gamma, transmission_weight = 'weight', initial_infecteds = int(len(G) / 2), return_full_data = False)\n",
    "    return [beta, gamma, t[-1], min(S), max(I)]"
   ]
  },
  {
   "cell_type": "code",
   "execution_count": 36,
   "metadata": {},
   "outputs": [
    {
     "name": "stdout",
     "output_type": "stream",
     "text": [
      "CPU times: user 2.33 s, sys: 776 ms, total: 3.11 s\n",
      "Wall time: 4h 20min 9s\n"
     ]
    }
   ],
   "source": [
    "%%time\n",
    "main_list = []\n",
    "list_of_beta= [0.01, 0.05, 0.10, 0.15, 0.20, 0.25, 0.30, 0.35, 0.40, 0.45, 0.50, 0.55, 0.60, 0.65, 0.70, 0.75, 0.80, 0.85, 0.90, 0.95, 1.00]\n",
    "list_of_gamma = [0.01, 0.05, 0.10, 0.15, 0.20, 0.25, 0.30, 0.35, 0.40, 0.45, 0.50, 0.55, 0.60, 0.65, 0.70, 0.75, 0.80, 0.85, 0.90, 0.95, 1.00]\n",
    "\n",
    "list_of_beta_gamma_pair = 5 * list(itertools.product(list_of_beta, list_of_gamma))\n",
    "\n",
    "with concurrent.futures.ProcessPoolExecutor() as executor:\n",
    "    for returned_object in executor.map(SIR, list_of_beta_gamma_pair):\n",
    "        main_list.append(returned_object)\n",
    "\n",
    "df = pd.DataFrame(main_list)\n",
    "df.columns = ['Beta', 'Gamma', 't', 'min(S)', 'max(I)']"
   ]
  },
  {
   "cell_type": "code",
   "execution_count": 37,
   "metadata": {},
   "outputs": [],
   "source": [
    "df.to_csv('WB_beta_gamma_SIR_another_5_iteration.csv')"
   ]
  },
  {
   "cell_type": "markdown",
   "metadata": {},
   "source": [
    "- Data of Half Quarantine"
   ]
  },
  {
   "cell_type": "code",
   "execution_count": 15,
   "metadata": {},
   "outputs": [],
   "source": [
    "# df = pd.read_csv('FINAL_beta_gamma_SIR_15_iterations_all_values.csv', index_col = 0)"
   ]
  },
  {
   "cell_type": "markdown",
   "metadata": {},
   "source": [
    "- Data of World Before Covid-19"
   ]
  },
  {
   "cell_type": "code",
   "execution_count": 13,
   "metadata": {},
   "outputs": [],
   "source": [
    "#df.to_csv('FINAL_WB_beta_gamma_SIR_10_iterations.csv')\n",
    "df = pd.read_csv('FINAL_WB_beta_gamma_SIR_10_iterations.csv')"
   ]
  },
  {
   "cell_type": "code",
   "execution_count": 14,
   "metadata": {},
   "outputs": [],
   "source": [
    "df_grouped = df.groupby(['Beta', 'Gamma']).mean().reset_index().sort_values(by = ['Beta', 'Gamma'])"
   ]
  },
  {
   "cell_type": "code",
   "execution_count": 15,
   "metadata": {},
   "outputs": [],
   "source": [
    "df_pw = pd.DataFrame()\n",
    "for beta in df_grouped['Beta'].unique():\n",
    "    df_pw[beta] = df_grouped[df_grouped['Beta'] == beta]['max(I)'].values\n",
    "df_pw.index = df_grouped['Gamma'].unique()"
   ]
  },
  {
   "cell_type": "code",
   "execution_count": 17,
   "metadata": {},
   "outputs": [
    {
     "data": {
      "text/plain": [
       "Text(0.5, 1, 'World Before Covid-19 Disease Spreading Heatmap for Beta-Gamma Pairs')"
      ]
     },
     "execution_count": 17,
     "metadata": {},
     "output_type": "execute_result"
    },
    {
     "data": {
      "image/png": "[encoded data removed]",
      "text/plain": [
       "<Figure size 864x432 with 2 Axes>"
      ]
     },
     "metadata": {
      "needs_background": "light"
     },
     "output_type": "display_data"
    }
   ],
   "source": [
    "fig, ax = plt.subplots(figsize = (12, 6))\n",
    "sns.heatmap(df_pw, cmap=\"Reds\", ax = ax)\n",
    "ax.set_xlabel('Beta', fontsize = 14)\n",
    "ax.set_ylabel('Gamma', fontsize = 14)\n",
    "ax.set_title('World Before Covid-19 Disease Spreading Heatmap for Beta-Gamma Pairs', fontsize = 14)"
   ]
  },
  {
   "cell_type": "code",
   "execution_count": null,
   "metadata": {},
   "outputs": [],
   "source": []
  },
  {
   "cell_type": "markdown",
   "metadata": {},
   "source": [
    "# Basic SI"
   ]
  },
  {
   "cell_type": "code",
   "execution_count": 4,
   "metadata": {},
   "outputs": [],
   "source": [
    "# SI method\n",
    "def SI(null_variable):\n",
    "    if null_variable == 'HQ':\n",
    "        G = create_hq_graph(0.5)\n",
    "    else:\n",
    "        G = create_wb_graph(0.5)\n",
    "    t, S, I ,R = EoN.fast_SIR(G, tau = 1, gamma = 0, transmission_weight = 'weight', initial_infecteds = np.random.randint(0, len(G)), return_full_data = False)\n",
    "    \n",
    "    return t[-1]"
   ]
  },
  {
   "cell_type": "markdown",
   "metadata": {},
   "source": [
    "- Half Quarantine Graph"
   ]
  },
  {
   "cell_type": "code",
   "execution_count": 5,
   "metadata": {},
   "outputs": [
    {
     "name": "stdout",
     "output_type": "stream",
     "text": [
      "CPU times: user 292 ms, sys: 268 ms, total: 560 ms\n",
      "Wall time: 18min 39s\n"
     ]
    }
   ],
   "source": [
    "%%time\n",
    "main_list_HQ = []\n",
    "null_variable_list = 256 * ['HQ']\n",
    "\n",
    "with concurrent.futures.ProcessPoolExecutor(max_workers = 64) as executor:\n",
    "    for returned_object in executor.map(SI, null_variable_list):\n",
    "        main_list_HQ.append(returned_object)\n"
   ]
  },
  {
   "cell_type": "code",
   "execution_count": 11,
   "metadata": {},
   "outputs": [],
   "source": [
    "pd.DataFrame(main_list_HQ).to_csv('main_list_HQ.csv')"
   ]
  },
  {
   "cell_type": "code",
   "execution_count": 12,
   "metadata": {},
   "outputs": [
    {
     "data": {
      "text/plain": [
       "1.3957003163607915"
      ]
     },
     "execution_count": 12,
     "metadata": {},
     "output_type": "execute_result"
    }
   ],
   "source": [
    "np.mean(main_list_HQ)"
   ]
  },
  {
   "cell_type": "markdown",
   "metadata": {},
   "source": [
    "- World Before Covid-19 Graph"
   ]
  },
  {
   "cell_type": "code",
   "execution_count": 6,
   "metadata": {},
   "outputs": [
    {
     "name": "stdout",
     "output_type": "stream",
     "text": [
      "CPU times: user 1.11 s, sys: 700 ms, total: 1.81 s\n",
      "Wall time: 7h 13min 8s\n"
     ]
    }
   ],
   "source": [
    "%%time\n",
    "main_list_WB = []\n",
    "null_variable_list = 256 * ['WB']\n",
    "\n",
    "with concurrent.futures.ProcessPoolExecutor(max_workers = 64) as executor:\n",
    "    for returned_object in executor.map(SI, null_variable_list):\n",
    "        main_list_WB.append(returned_object)"
   ]
  },
  {
   "cell_type": "code",
   "execution_count": 7,
   "metadata": {},
   "outputs": [],
   "source": [
    "pd.DataFrame(main_list_WB).to_csv('main_list_WB.csv')"
   ]
  },
  {
   "cell_type": "code",
   "execution_count": 13,
   "metadata": {},
   "outputs": [
    {
     "data": {
      "text/plain": [
       "0.7817641657644708"
      ]
     },
     "execution_count": 13,
     "metadata": {},
     "output_type": "execute_result"
    }
   ],
   "source": [
    "np.mean(main_list_WB)"
   ]
  },
  {
   "cell_type": "code",
   "execution_count": null,
   "metadata": {},
   "outputs": [],
   "source": []
  }
 ],
 "metadata": {
  "kernelspec": {
   "display_name": "Python 3",
   "language": "python",
   "name": "python3"
  },
  "language_info": {
   "codemirror_mode": {
    "name": "ipython",
    "version": 3
   },
   "file_extension": ".py",
   "mimetype": "text/x-python",
   "name": "python",
   "nbconvert_exporter": "python",
   "pygments_lexer": "ipython3",
   "version": "3.7.7"
  },
  "varInspector": {
   "cols": {
    "lenName": 16,
    "lenType": 16,
    "lenVar": 40
   },
   "kernels_config": {
    "python": {
     "delete_cmd_postfix": "",
     "delete_cmd_prefix": "del ",
     "library": "var_list.py",
     "varRefreshCmd": "print(var_dic_list())"
    },
    "r": {
     "delete_cmd_postfix": ") ",
     "delete_cmd_prefix": "rm(",
     "library": "var_list.r",
     "varRefreshCmd": "cat(var_dic_list()) "
    }
   },
   "types_to_exclude": [
    "module",
    "function",
    "builtin_function_or_method",
    "instance",
    "_Feature"
   ],
   "window_display": false
  }
 },
 "nbformat": 4,
 "nbformat_minor": 4
}
